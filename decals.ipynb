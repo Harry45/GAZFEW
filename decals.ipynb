{
 "cells": [
  {
   "cell_type": "code",
   "execution_count": 1,
   "id": "224bdb22",
   "metadata": {},
   "outputs": [],
   "source": [
    "import os\n",
    "import pandas as pd \n",
    "import numpy as np \n",
    "\n",
    "# visualisation\n",
    "import matplotlib.pylab as plt\n",
    "import matplotlib.font_manager as fm\n",
    "\n",
    "# our scripts \n",
    "import src.processing as sp \n",
    "import settings as st\n",
    "import utils.helpers as hp"
   ]
  },
  {
   "cell_type": "markdown",
   "id": "e17b3a16",
   "metadata": {},
   "source": [
    "### Generate the descriptions for spiral and elliptical "
   ]
  },
  {
   "cell_type": "code",
   "execution_count": 2,
   "id": "7f6f6e4d",
   "metadata": {},
   "outputs": [],
   "source": [
    "# read the parquet file (all the votes)\n",
    "dr5_desc = hp.read_parquet(st.data_dir, 'descriptions/decals_5_votes')"
   ]
  },
  {
   "cell_type": "code",
   "execution_count": 4,
   "id": "6df07743",
   "metadata": {},
   "outputs": [],
   "source": [
    "# dr5_spiral = sp.filtering(dr5_desc, st.condition_spiral, save=True, filename = 'decals_5_spiral')"
   ]
  },
  {
   "cell_type": "code",
   "execution_count": 5,
   "id": "8f75e167",
   "metadata": {},
   "outputs": [],
   "source": [
    "# dr5_elliptical = sp.filtering(dr5_desc, st.condition_elliptical, save=True, filename = 'decals_5_elliptical')"
   ]
  },
  {
   "cell_type": "markdown",
   "id": "91318f05",
   "metadata": {},
   "source": [
    "### Subset of the Spirals and Ellipticals "
   ]
  },
  {
   "cell_type": "code",
   "execution_count": 12,
   "id": "161d0593",
   "metadata": {},
   "outputs": [],
   "source": [
    "# df_spiral_subset = sp.subset_df(dr5_spiral, 2000, random=True, save=True, filename='subset_spiral')"
   ]
  },
  {
   "cell_type": "code",
   "execution_count": 14,
   "id": "728c1282",
   "metadata": {},
   "outputs": [],
   "source": [
    "# df_elliptical_subset = sp.subset_df(dr5_elliptical, 2000, random=True, save=True, filename='subset_elliptical')"
   ]
  },
  {
   "cell_type": "code",
   "execution_count": null,
   "id": "5c0f7a48",
   "metadata": {},
   "outputs": [],
   "source": []
  }
 ],
 "metadata": {
  "kernelspec": {
   "display_name": "Python 3",
   "language": "python",
   "name": "python3"
  },
  "language_info": {
   "codemirror_mode": {
    "name": "ipython",
    "version": 3
   },
   "file_extension": ".py",
   "mimetype": "text/x-python",
   "name": "python",
   "nbconvert_exporter": "python",
   "pygments_lexer": "ipython3",
   "version": "3.9.7"
  }
 },
 "nbformat": 4,
 "nbformat_minor": 5
}
