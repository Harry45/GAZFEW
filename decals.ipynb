{
 "cells": [
  {
   "cell_type": "code",
   "execution_count": 1,
   "id": "224bdb22",
   "metadata": {},
   "outputs": [],
   "source": [
    "import os\n",
    "import pandas as pd \n",
    "import numpy as np \n",
    "\n",
    "# visualisation\n",
    "import matplotlib.pylab as plt\n",
    "import matplotlib.font_manager as fm\n",
    "\n",
    "# our scripts \n",
    "import src.processing as sp \n",
    "import settings as st\n",
    "import utils.helpers as hp"
   ]
  },
  {
   "cell_type": "markdown",
   "id": "dc407538",
   "metadata": {},
   "source": [
    "### Correct for the locations of the images "
   ]
  },
  {
   "cell_type": "code",
   "execution_count": null,
   "id": "c8c87a22",
   "metadata": {},
   "outputs": [],
   "source": [
    "# dr5_desc = sp.read_parquet('gz_decals_volunteers_5', save = True, filename='decals_5_votes')"
   ]
  },
  {
   "cell_type": "markdown",
   "id": "85c2338f",
   "metadata": {},
   "source": [
    "### Generate the descriptions for spiral and elliptical "
   ]
  },
  {
   "cell_type": "code",
   "execution_count": 3,
   "id": "079184b2",
   "metadata": {},
   "outputs": [],
   "source": [
    "# dr5_desc = hp.read_parquet(st.data_dir, 'descriptions/decals_5_votes')"
   ]
  },
  {
   "cell_type": "code",
   "execution_count": 4,
   "id": "573f5e99",
   "metadata": {},
   "outputs": [],
   "source": [
    "# dr5_spiral = sp.filtering(dr5_desc, st.condition_spiral, save=False, filename = 'decals_5_spiral')"
   ]
  },
  {
   "cell_type": "code",
   "execution_count": 5,
   "id": "ba023e6a",
   "metadata": {},
   "outputs": [],
   "source": [
    "# dr5_elliptical = sp.filtering(dr5_desc, st.condition_elliptical, save=False, filename = 'decals_5_elliptical')"
   ]
  },
  {
   "cell_type": "markdown",
   "id": "c9f70873",
   "metadata": {},
   "source": [
    "### Subset of the Spirals and Ellipticals "
   ]
  },
  {
   "cell_type": "code",
   "execution_count": 12,
   "id": "8276ac5e",
   "metadata": {},
   "outputs": [],
   "source": [
    "# df_spiral= sp.subset_df(dr5_spiral, 2000, random=True, save=True, filename='subset_spiral')"
   ]
  },
  {
   "cell_type": "code",
   "execution_count": 14,
   "id": "82ac5b43",
   "metadata": {},
   "outputs": [],
   "source": [
    "# df_elliptical = sp.subset_df(dr5_elliptical, 2000, random=True, save=True, filename='subset_elliptical')"
   ]
  },
  {
   "cell_type": "markdown",
   "id": "4abb85f2",
   "metadata": {},
   "source": [
    "### Move data\n",
    "Given a pandas dataframe, copy images from Mike's folder to our folder."
   ]
  },
  {
   "cell_type": "code",
   "execution_count": 12,
   "id": "1786d451",
   "metadata": {},
   "outputs": [],
   "source": [
    "# df_spiral = hp.read_parquet(st.data_dir, 'descriptions/subset_spiral')\n",
    "# df_elliptical = hp.read_parquet(st.data_dir, 'descriptions/subset_elliptical')"
   ]
  },
  {
   "cell_type": "code",
   "execution_count": 13,
   "id": "3c3cc1a9",
   "metadata": {},
   "outputs": [],
   "source": [
    "# sp.copy_images(df_spiral, 'spiral')\n",
    "# sp.copy_images(df_elliptical, 'elliptical')"
   ]
  },
  {
   "cell_type": "markdown",
   "id": "8fef0b5e",
   "metadata": {},
   "source": [
    "### Split the data into Training/Validation"
   ]
  },
  {
   "cell_type": "code",
   "execution_count": 28,
   "id": "3cdfa3df",
   "metadata": {},
   "outputs": [],
   "source": [
    "# d = sp.split_data(['spiral', 'elliptical'], save=False)"
   ]
  },
  {
   "cell_type": "markdown",
   "id": "21ecf342",
   "metadata": {},
   "source": [
    "### Generate the Training/Validation sets (images)"
   ]
  },
  {
   "cell_type": "code",
   "execution_count": 2,
   "id": "623e7b8c",
   "metadata": {},
   "outputs": [],
   "source": [
    "# sp.images_train_validate(['spiral', 'elliptical'])"
   ]
  },
  {
   "cell_type": "markdown",
   "id": "a2602a52",
   "metadata": {},
   "source": [
    "### Load Deep Learning Model"
   ]
  },
  {
   "cell_type": "code",
   "execution_count": 1,
   "id": "6930d078",
   "metadata": {},
   "outputs": [],
   "source": [
    "import os\n",
    "import torch\n",
    "from torchvision import transforms\n",
    "from PIL import Image\n",
    "import matplotlib.pylab as plt "
   ]
  },
  {
   "cell_type": "code",
   "execution_count": 2,
   "id": "18bc7a40",
   "metadata": {},
   "outputs": [],
   "source": [
    "from src.networks import SiameseNetwork"
   ]
  },
  {
   "cell_type": "code",
   "execution_count": 3,
   "id": "25095eae",
   "metadata": {},
   "outputs": [],
   "source": [
    "model_path = '../fs-models/siamese_resnet18.pth'"
   ]
  },
  {
   "cell_type": "code",
   "execution_count": 4,
   "id": "99f521ef",
   "metadata": {},
   "outputs": [],
   "source": [
    "device = torch.device('cpu')\n",
    "model = SiameseNetwork(backbone=\"resnet18\")"
   ]
  },
  {
   "cell_type": "code",
   "execution_count": 5,
   "id": "bc467d2e",
   "metadata": {},
   "outputs": [
    {
     "data": {
      "text/plain": [
       "<All keys matched successfully>"
      ]
     },
     "execution_count": 5,
     "metadata": {},
     "output_type": "execute_result"
    }
   ],
   "source": [
    "model.load_state_dict(torch.load(model_path, map_location=device))"
   ]
  },
  {
   "cell_type": "code",
   "execution_count": 6,
   "id": "ac41f432",
   "metadata": {},
   "outputs": [
    {
     "data": {
      "text/plain": [
       "SiameseNetwork(\n",
       "  (backbone): ResNet(\n",
       "    (conv1): Conv2d(1, 64, kernel_size=(7, 7), stride=(2, 2), padding=(3, 3), bias=False)\n",
       "    (bn1): BatchNorm2d(64, eps=1e-05, momentum=0.1, affine=True, track_running_stats=True)\n",
       "    (relu): ReLU(inplace=True)\n",
       "    (maxpool): MaxPool2d(kernel_size=3, stride=2, padding=1, dilation=1, ceil_mode=False)\n",
       "    (layer1): Sequential(\n",
       "      (0): BasicBlock(\n",
       "        (conv1): Conv2d(64, 64, kernel_size=(3, 3), stride=(1, 1), padding=(1, 1), bias=False)\n",
       "        (bn1): BatchNorm2d(64, eps=1e-05, momentum=0.1, affine=True, track_running_stats=True)\n",
       "        (relu): ReLU(inplace=True)\n",
       "        (conv2): Conv2d(64, 64, kernel_size=(3, 3), stride=(1, 1), padding=(1, 1), bias=False)\n",
       "        (bn2): BatchNorm2d(64, eps=1e-05, momentum=0.1, affine=True, track_running_stats=True)\n",
       "      )\n",
       "      (1): BasicBlock(\n",
       "        (conv1): Conv2d(64, 64, kernel_size=(3, 3), stride=(1, 1), padding=(1, 1), bias=False)\n",
       "        (bn1): BatchNorm2d(64, eps=1e-05, momentum=0.1, affine=True, track_running_stats=True)\n",
       "        (relu): ReLU(inplace=True)\n",
       "        (conv2): Conv2d(64, 64, kernel_size=(3, 3), stride=(1, 1), padding=(1, 1), bias=False)\n",
       "        (bn2): BatchNorm2d(64, eps=1e-05, momentum=0.1, affine=True, track_running_stats=True)\n",
       "      )\n",
       "    )\n",
       "    (layer2): Sequential(\n",
       "      (0): BasicBlock(\n",
       "        (conv1): Conv2d(64, 128, kernel_size=(3, 3), stride=(2, 2), padding=(1, 1), bias=False)\n",
       "        (bn1): BatchNorm2d(128, eps=1e-05, momentum=0.1, affine=True, track_running_stats=True)\n",
       "        (relu): ReLU(inplace=True)\n",
       "        (conv2): Conv2d(128, 128, kernel_size=(3, 3), stride=(1, 1), padding=(1, 1), bias=False)\n",
       "        (bn2): BatchNorm2d(128, eps=1e-05, momentum=0.1, affine=True, track_running_stats=True)\n",
       "        (downsample): Sequential(\n",
       "          (0): Conv2d(64, 128, kernel_size=(1, 1), stride=(2, 2), bias=False)\n",
       "          (1): BatchNorm2d(128, eps=1e-05, momentum=0.1, affine=True, track_running_stats=True)\n",
       "        )\n",
       "      )\n",
       "      (1): BasicBlock(\n",
       "        (conv1): Conv2d(128, 128, kernel_size=(3, 3), stride=(1, 1), padding=(1, 1), bias=False)\n",
       "        (bn1): BatchNorm2d(128, eps=1e-05, momentum=0.1, affine=True, track_running_stats=True)\n",
       "        (relu): ReLU(inplace=True)\n",
       "        (conv2): Conv2d(128, 128, kernel_size=(3, 3), stride=(1, 1), padding=(1, 1), bias=False)\n",
       "        (bn2): BatchNorm2d(128, eps=1e-05, momentum=0.1, affine=True, track_running_stats=True)\n",
       "      )\n",
       "    )\n",
       "    (layer3): Sequential(\n",
       "      (0): BasicBlock(\n",
       "        (conv1): Conv2d(128, 256, kernel_size=(3, 3), stride=(2, 2), padding=(1, 1), bias=False)\n",
       "        (bn1): BatchNorm2d(256, eps=1e-05, momentum=0.1, affine=True, track_running_stats=True)\n",
       "        (relu): ReLU(inplace=True)\n",
       "        (conv2): Conv2d(256, 256, kernel_size=(3, 3), stride=(1, 1), padding=(1, 1), bias=False)\n",
       "        (bn2): BatchNorm2d(256, eps=1e-05, momentum=0.1, affine=True, track_running_stats=True)\n",
       "        (downsample): Sequential(\n",
       "          (0): Conv2d(128, 256, kernel_size=(1, 1), stride=(2, 2), bias=False)\n",
       "          (1): BatchNorm2d(256, eps=1e-05, momentum=0.1, affine=True, track_running_stats=True)\n",
       "        )\n",
       "      )\n",
       "      (1): BasicBlock(\n",
       "        (conv1): Conv2d(256, 256, kernel_size=(3, 3), stride=(1, 1), padding=(1, 1), bias=False)\n",
       "        (bn1): BatchNorm2d(256, eps=1e-05, momentum=0.1, affine=True, track_running_stats=True)\n",
       "        (relu): ReLU(inplace=True)\n",
       "        (conv2): Conv2d(256, 256, kernel_size=(3, 3), stride=(1, 1), padding=(1, 1), bias=False)\n",
       "        (bn2): BatchNorm2d(256, eps=1e-05, momentum=0.1, affine=True, track_running_stats=True)\n",
       "      )\n",
       "    )\n",
       "    (layer4): Sequential(\n",
       "      (0): BasicBlock(\n",
       "        (conv1): Conv2d(256, 512, kernel_size=(3, 3), stride=(2, 2), padding=(1, 1), bias=False)\n",
       "        (bn1): BatchNorm2d(512, eps=1e-05, momentum=0.1, affine=True, track_running_stats=True)\n",
       "        (relu): ReLU(inplace=True)\n",
       "        (conv2): Conv2d(512, 512, kernel_size=(3, 3), stride=(1, 1), padding=(1, 1), bias=False)\n",
       "        (bn2): BatchNorm2d(512, eps=1e-05, momentum=0.1, affine=True, track_running_stats=True)\n",
       "        (downsample): Sequential(\n",
       "          (0): Conv2d(256, 512, kernel_size=(1, 1), stride=(2, 2), bias=False)\n",
       "          (1): BatchNorm2d(512, eps=1e-05, momentum=0.1, affine=True, track_running_stats=True)\n",
       "        )\n",
       "      )\n",
       "      (1): BasicBlock(\n",
       "        (conv1): Conv2d(512, 512, kernel_size=(3, 3), stride=(1, 1), padding=(1, 1), bias=False)\n",
       "        (bn1): BatchNorm2d(512, eps=1e-05, momentum=0.1, affine=True, track_running_stats=True)\n",
       "        (relu): ReLU(inplace=True)\n",
       "        (conv2): Conv2d(512, 512, kernel_size=(3, 3), stride=(1, 1), padding=(1, 1), bias=False)\n",
       "        (bn2): BatchNorm2d(512, eps=1e-05, momentum=0.1, affine=True, track_running_stats=True)\n",
       "      )\n",
       "    )\n",
       "    (avgpool): AdaptiveAvgPool2d(output_size=(1, 1))\n",
       "    (fc): Linear(in_features=512, out_features=1000, bias=True)\n",
       "  )\n",
       "  (cls_head): Sequential(\n",
       "    (0): Linear(in_features=1000, out_features=1, bias=True)\n",
       "    (1): Sigmoid()\n",
       "  )\n",
       ")"
      ]
     },
     "execution_count": 6,
     "metadata": {},
     "output_type": "execute_result"
    }
   ],
   "source": [
    "model.eval()"
   ]
  },
  {
   "cell_type": "code",
   "execution_count": 7,
   "id": "2d258384",
   "metadata": {},
   "outputs": [],
   "source": [
    "trans = [transforms.Grayscale(num_output_channels=1), transforms.ToTensor(), transforms.Resize(300), transforms.CenterCrop(224)]"
   ]
  },
  {
   "cell_type": "code",
   "execution_count": 8,
   "id": "196bb37e",
   "metadata": {},
   "outputs": [],
   "source": [
    "transformation = transforms.Compose(trans)"
   ]
  },
  {
   "cell_type": "markdown",
   "id": "73d3ed31",
   "metadata": {},
   "source": [
    "Testing two spirals from the following folder"
   ]
  },
  {
   "cell_type": "code",
   "execution_count": 9,
   "id": "14503699",
   "metadata": {},
   "outputs": [],
   "source": [
    "img_path_s = '/data/phys-zooniverse/phys2286/data/images/spiral/'\n",
    "img_path_e = '/data/phys-zooniverse/phys2286/data/images/elliptical/'"
   ]
  },
  {
   "cell_type": "code",
   "execution_count": 10,
   "id": "1efb8edb",
   "metadata": {},
   "outputs": [],
   "source": [
    "path_s = os.listdir(img_path_s)\n",
    "path_e = os.listdir(img_path_e)"
   ]
  },
  {
   "cell_type": "code",
   "execution_count": 19,
   "id": "b7e967c3",
   "metadata": {},
   "outputs": [],
   "source": [
    "img1 = img_path_s + path_s[100]\n",
    "img2 = img_path_e + path_e[1425]"
   ]
  },
  {
   "cell_type": "code",
   "execution_count": 20,
   "id": "8a5e273a",
   "metadata": {},
   "outputs": [],
   "source": [
    "image1 = Image.open(img1).convert(\"RGB\")\n",
    "image2 = Image.open(img2).convert(\"RGB\")\n",
    "\n",
    "image1_t = transformation(image1).float()\n",
    "image2_t = transformation(image2).float()"
   ]
  },
  {
   "cell_type": "code",
   "execution_count": 21,
   "id": "1efb582b",
   "metadata": {},
   "outputs": [
    {
     "data": {
      "image/png": "[encoded data removed]",
      "text/plain": [
       "<Figure size 432x288 with 2 Axes>"
      ]
     },
     "metadata": {
      "needs_background": "light"
     },
     "output_type": "display_data"
    }
   ],
   "source": [
    "plt.figure()\n",
    "plt.subplot(121)\n",
    "plt.imshow(image1_t[0].numpy(), cmap='gray')\n",
    "\n",
    "plt.subplot(122)\n",
    "plt.imshow(image2_t[0].numpy(), cmap='gray')\n",
    "plt.show()"
   ]
  },
  {
   "cell_type": "code",
   "execution_count": 22,
   "id": "f9f4da93",
   "metadata": {},
   "outputs": [
    {
     "data": {
      "text/plain": [
       "1.2314958439674228e-06"
      ]
     },
     "execution_count": 22,
     "metadata": {},
     "output_type": "execute_result"
    }
   ],
   "source": [
    "model(image1_t.unsqueeze(1), image2_t.unsqueeze(1)).item()"
   ]
  },
  {
   "cell_type": "code",
   "execution_count": 26,
   "id": "cedd8b25",
   "metadata": {},
   "outputs": [],
   "source": [
    "# [500, 600]\n",
    "# 0.3985\n",
    "# 0.8597607016563416"
   ]
  },
  {
   "cell_type": "code",
   "execution_count": null,
   "id": "4aadd2a8",
   "metadata": {},
   "outputs": [],
   "source": []
  }
 ],
 "metadata": {
  "kernelspec": {
   "display_name": "Python 3",
   "language": "python",
   "name": "python3"
  },
  "language_info": {
   "codemirror_mode": {
    "name": "ipython",
    "version": 3
   },
   "file_extension": ".py",
   "mimetype": "text/x-python",
   "name": "python",
   "nbconvert_exporter": "python",
   "pygments_lexer": "ipython3",
   "version": "3.9.7"
  }
 },
 "nbformat": 4,
 "nbformat_minor": 5
}
