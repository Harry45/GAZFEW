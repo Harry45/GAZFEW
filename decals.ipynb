{
 "cells": [
  {
   "cell_type": "code",
   "execution_count": 1,
   "id": "224bdb22",
   "metadata": {},
   "outputs": [],
   "source": [
    "import os\n",
    "import pandas as pd \n",
    "import numpy as np \n",
    "\n",
    "# visualisation\n",
    "import matplotlib.pylab as plt\n",
    "import matplotlib.font_manager as fm\n",
    "\n",
    "# our scripts \n",
    "import src.processing as sp \n",
    "import settings as st\n",
    "import utils.helpers as hp"
   ]
  },
  {
   "cell_type": "markdown",
   "id": "744d446b",
   "metadata": {},
   "source": [
    "### Correct for the locations of the images "
   ]
  },
  {
   "cell_type": "code",
   "execution_count": null,
   "id": "8f0ca7b9",
   "metadata": {},
   "outputs": [],
   "source": [
    "# dr5_desc = sp.read_parquet('gz_decals_volunteers_5', save = True, filename='decals_5_votes')"
   ]
  },
  {
   "cell_type": "markdown",
   "id": "85c2338f",
   "metadata": {},
   "source": [
    "### Generate the descriptions for spiral and elliptical "
   ]
  },
  {
   "cell_type": "code",
   "execution_count": 2,
   "id": "079184b2",
   "metadata": {},
   "outputs": [],
   "source": [
    "# dr5_desc = hp.read_parquet(st.data_dir, 'descriptions/decals_5_votes')"
   ]
  },
  {
   "cell_type": "code",
   "execution_count": 4,
   "id": "573f5e99",
   "metadata": {},
   "outputs": [],
   "source": [
    "# dr5_spiral = sp.filtering(dr5_desc, st.condition_spiral, save=True, filename = 'decals_5_spiral')"
   ]
  },
  {
   "cell_type": "code",
   "execution_count": 5,
   "id": "ba023e6a",
   "metadata": {},
   "outputs": [],
   "source": [
    "# dr5_elliptical = sp.filtering(dr5_desc, st.condition_elliptical, save=True, filename = 'decals_5_elliptical')"
   ]
  },
  {
   "cell_type": "markdown",
   "id": "c9f70873",
   "metadata": {},
   "source": [
    "### Subset of the Spirals and Ellipticals "
   ]
  },
  {
   "cell_type": "code",
   "execution_count": 12,
   "id": "8276ac5e",
   "metadata": {},
   "outputs": [],
   "source": [
    "# df_spiral= sp.subset_df(dr5_spiral, 2000, random=True, save=True, filename='subset_spiral')"
   ]
  },
  {
   "cell_type": "code",
   "execution_count": 14,
   "id": "82ac5b43",
   "metadata": {},
   "outputs": [],
   "source": [
    "# df_elliptical = sp.subset_df(dr5_elliptical, 2000, random=True, save=True, filename='subset_elliptical')"
   ]
  },
  {
   "cell_type": "markdown",
   "id": "4abb85f2",
   "metadata": {},
   "source": [
    "### Move data\n",
    "Given a pandas dataframe, copy images from Mike's folder to our folder."
   ]
  },
  {
   "cell_type": "code",
   "execution_count": 12,
   "id": "1786d451",
   "metadata": {},
   "outputs": [],
   "source": [
    "# df_spiral = hp.read_parquet(st.data_dir, 'descriptions/subset_spiral')\n",
    "# df_elliptical = hp.read_parquet(st.data_dir, 'descriptions/subset_elliptical')"
   ]
  },
  {
   "cell_type": "code",
   "execution_count": 13,
   "id": "3c3cc1a9",
   "metadata": {},
   "outputs": [],
   "source": [
    "# sp.copy_images(df_spiral, 'spiral')\n",
    "# sp.copy_images(df_elliptical, 'elliptical')"
   ]
  },
  {
   "cell_type": "markdown",
   "id": "1b1a43f4",
   "metadata": {},
   "source": [
    "### Split the data into Training/Validation"
   ]
  },
  {
   "cell_type": "code",
   "execution_count": 28,
   "id": "a413effe",
   "metadata": {},
   "outputs": [],
   "source": [
    "# d = sp.split_data(['spiral', 'elliptical'], save=False)"
   ]
  },
  {
   "cell_type": "markdown",
   "id": "50558d7d",
   "metadata": {},
   "source": [
    "### Generate the Training/Validation sets (images)"
   ]
  },
  {
   "cell_type": "code",
   "execution_count": 2,
   "id": "bd168cd1",
   "metadata": {},
   "outputs": [],
   "source": [
    "# sp.images_train_validate(['spiral', 'elliptical'])"
   ]
  }
 ],
 "metadata": {
  "kernelspec": {
   "display_name": "Python 3",
   "language": "python",
   "name": "python3"
  },
  "language_info": {
   "codemirror_mode": {
    "name": "ipython",
    "version": 3
   },
   "file_extension": ".py",
   "mimetype": "text/x-python",
   "name": "python",
   "nbconvert_exporter": "python",
   "pygments_lexer": "ipython3",
   "version": "3.9.7"
  }
 },
 "nbformat": 4,
 "nbformat_minor": 5
}
