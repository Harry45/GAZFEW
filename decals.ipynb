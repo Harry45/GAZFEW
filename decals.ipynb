{
 "cells": [
  {
   "cell_type": "code",
   "execution_count": 1,
   "id": "224bdb22",
   "metadata": {},
   "outputs": [],
   "source": [
    "import os\n",
    "import pandas as pd \n",
    "import numpy as np \n",
    "\n",
    "# visualisation\n",
    "import matplotlib.pylab as plt\n",
    "import matplotlib.font_manager as fm\n",
    "\n",
    "# our scripts \n",
    "import src.processing as sp \n",
    "import settings as st\n",
    "import utils.helpers as hp"
   ]
  },
  {
   "cell_type": "markdown",
   "id": "dc407538",
   "metadata": {},
   "source": [
    "### Correct for the locations of the images "
   ]
  },
  {
   "cell_type": "code",
   "execution_count": null,
   "id": "c8c87a22",
   "metadata": {},
   "outputs": [],
   "source": [
    "# dr5_desc = sp.read_parquet('gz_decals_volunteers_5', save = True, filename='decals_5_votes')"
   ]
  },
  {
   "cell_type": "markdown",
   "id": "85c2338f",
   "metadata": {},
   "source": [
    "### Generate the descriptions for spiral and elliptical "
   ]
  },
  {
   "cell_type": "code",
   "execution_count": 3,
   "id": "079184b2",
   "metadata": {},
   "outputs": [],
   "source": [
    "# dr5_desc = hp.read_parquet(st.data_dir, 'descriptions/decals_5_votes')"
   ]
  },
  {
   "cell_type": "code",
   "execution_count": 4,
   "id": "573f5e99",
   "metadata": {},
   "outputs": [],
   "source": [
    "# dr5_spiral = sp.filtering(dr5_desc, st.condition_spiral, save=False, filename = 'decals_5_spiral')"
   ]
  },
  {
   "cell_type": "code",
   "execution_count": 5,
   "id": "ba023e6a",
   "metadata": {},
   "outputs": [],
   "source": [
    "# dr5_elliptical = sp.filtering(dr5_desc, st.condition_elliptical, save=False, filename = 'decals_5_elliptical')"
   ]
  },
  {
   "cell_type": "markdown",
   "id": "c9f70873",
   "metadata": {},
   "source": [
    "### Subset of the Spirals and Ellipticals "
   ]
  },
  {
   "cell_type": "code",
   "execution_count": 12,
   "id": "8276ac5e",
   "metadata": {},
   "outputs": [],
   "source": [
    "# df_spiral= sp.subset_df(dr5_spiral, 2000, random=True, save=True, filename='subset_spiral')"
   ]
  },
  {
   "cell_type": "code",
   "execution_count": 14,
   "id": "82ac5b43",
   "metadata": {},
   "outputs": [],
   "source": [
    "# df_elliptical = sp.subset_df(dr5_elliptical, 2000, random=True, save=True, filename='subset_elliptical')"
   ]
  },
  {
   "cell_type": "markdown",
   "id": "4abb85f2",
   "metadata": {},
   "source": [
    "### Move data\n",
    "Given a pandas dataframe, copy images from Mike's folder to our folder."
   ]
  },
  {
   "cell_type": "code",
   "execution_count": 12,
   "id": "1786d451",
   "metadata": {},
   "outputs": [],
   "source": [
    "# df_spiral = hp.read_parquet(st.data_dir, 'descriptions/subset_spiral')\n",
    "# df_elliptical = hp.read_parquet(st.data_dir, 'descriptions/subset_elliptical')"
   ]
  },
  {
   "cell_type": "code",
   "execution_count": 13,
   "id": "3c3cc1a9",
   "metadata": {},
   "outputs": [],
   "source": [
    "# sp.copy_images(df_spiral, 'spiral')\n",
    "# sp.copy_images(df_elliptical, 'elliptical')"
   ]
  },
  {
   "cell_type": "markdown",
   "id": "8fef0b5e",
   "metadata": {},
   "source": [
    "### Split the data into Training/Validation"
   ]
  },
  {
   "cell_type": "code",
   "execution_count": 28,
   "id": "3cdfa3df",
   "metadata": {},
   "outputs": [],
   "source": [
    "# d = sp.split_data(['spiral', 'elliptical'], save=False)"
   ]
  },
  {
   "cell_type": "markdown",
   "id": "21ecf342",
   "metadata": {},
   "source": [
    "### Generate the Training/Validation sets (images)"
   ]
  },
  {
   "cell_type": "code",
   "execution_count": 2,
   "id": "623e7b8c",
   "metadata": {},
   "outputs": [],
   "source": [
    "# sp.images_train_validate(['spiral', 'elliptical'])"
   ]
  },
  {
   "cell_type": "markdown",
   "id": "1230780b",
   "metadata": {},
   "source": [
    "### Load Deep Learning Model"
   ]
  },
  {
   "cell_type": "code",
   "execution_count": 4,
   "id": "076c4036",
   "metadata": {},
   "outputs": [],
   "source": [
    "import os\n",
    "import torch\n",
    "from torchvision import transforms\n",
    "from PIL import Image"
   ]
  },
  {
   "cell_type": "code",
   "execution_count": 5,
   "id": "49b14610",
   "metadata": {},
   "outputs": [],
   "source": [
    "from src.networks import SiameseNetwork"
   ]
  },
  {
   "cell_type": "code",
   "execution_count": 6,
   "id": "c3fe9b5a",
   "metadata": {},
   "outputs": [],
   "source": [
    "model_path = '../fs-models/siamese_resnet18.pth'"
   ]
  },
  {
   "cell_type": "code",
   "execution_count": 7,
   "id": "7163fa35",
   "metadata": {},
   "outputs": [],
   "source": [
    "device = torch.device('cpu')\n",
    "model = SiameseNetwork(backbone=\"resnet18\")"
   ]
  },
  {
   "cell_type": "code",
   "execution_count": 8,
   "id": "4fa8f6d0",
   "metadata": {},
   "outputs": [
    {
     "data": {
      "text/plain": [
       "<All keys matched successfully>"
      ]
     },
     "execution_count": 8,
     "metadata": {},
     "output_type": "execute_result"
    }
   ],
   "source": [
    "model.load_state_dict(torch.load(model_path, map_location=device))"
   ]
  },
  {
   "cell_type": "code",
   "execution_count": 10,
   "id": "3fd6bdfb",
   "metadata": {},
   "outputs": [],
   "source": [
    "trans = [transforms.Grayscale(num_output_channels=1), transforms.ToTensor(), transforms.Resize(300), transforms.CenterCrop(224)]"
   ]
  },
  {
   "cell_type": "code",
   "execution_count": 11,
   "id": "b577f623",
   "metadata": {},
   "outputs": [],
   "source": [
    "transformation = transforms.Compose(trans)"
   ]
  },
  {
   "cell_type": "markdown",
   "id": "e40c8647",
   "metadata": {},
   "source": [
    "Testing two spirals from the following folder"
   ]
  },
  {
   "cell_type": "code",
   "execution_count": 16,
   "id": "5ca8ee3e",
   "metadata": {},
   "outputs": [],
   "source": [
    "img_path = '/data/phys-zooniverse/phys2286/data/images/spiral/'"
   ]
  },
  {
   "cell_type": "code",
   "execution_count": 19,
   "id": "29a9ced1",
   "metadata": {},
   "outputs": [],
   "source": [
    "paths = os.listdir(img_path)"
   ]
  },
  {
   "cell_type": "code",
   "execution_count": 21,
   "id": "4c75cb36",
   "metadata": {},
   "outputs": [],
   "source": [
    "img1 = img_path + paths[500]\n",
    "img2 = img_path + paths[600]"
   ]
  },
  {
   "cell_type": "code",
   "execution_count": 23,
   "id": "2d0c85a1",
   "metadata": {},
   "outputs": [],
   "source": [
    "image1 = Image.open(img1).convert(\"RGB\")\n",
    "image2 = Image.open(img2).convert(\"RGB\")\n",
    "\n",
    "image1_t = transformation(image1).float()\n",
    "image2_t = transformation(image2).float()"
   ]
  },
  {
   "cell_type": "code",
   "execution_count": 34,
   "id": "e9be6119",
   "metadata": {},
   "outputs": [
    {
     "data": {
      "text/plain": [
       "0.39850014448165894"
      ]
     },
     "execution_count": 34,
     "metadata": {},
     "output_type": "execute_result"
    }
   ],
   "source": [
    "model(image1_t.unsqueeze(1), image2_t.unsqueeze(1)).item()"
   ]
  },
  {
   "cell_type": "code",
   "execution_count": null,
   "id": "1b7209e2",
   "metadata": {},
   "outputs": [],
   "source": [
    "# 0.3985"
   ]
  },
  {
   "cell_type": "code",
   "execution_count": 38,
   "id": "7cf66ea4",
   "metadata": {},
   "outputs": [],
   "source": [
    "import matplotlib.pylab as plt "
   ]
  },
  {
   "cell_type": "code",
   "execution_count": 41,
   "id": "4d11c167",
   "metadata": {},
   "outputs": [
    {
     "data": {
      "image/png": "[encoded data removed]",
      "text/plain": [
       "<Figure size 432x288 with 2 Axes>"
      ]
     },
     "metadata": {
      "needs_background": "light"
     },
     "output_type": "display_data"
    }
   ],
   "source": [
    "plt.figure()\n",
    "plt.subplot(121)\n",
    "plt.imshow(image1_t[0].numpy(), cmap='gray')\n",
    "\n",
    "plt.subplot(122)\n",
    "plt.imshow(image2_t[0].numpy(), cmap='gray')\n",
    "plt.show()"
   ]
  },
  {
   "cell_type": "code",
   "execution_count": null,
   "id": "0d2666fc",
   "metadata": {},
   "outputs": [],
   "source": []
  }
 ],
 "metadata": {
  "kernelspec": {
   "display_name": "Python 3",
   "language": "python",
   "name": "python3"
  },
  "language_info": {
   "codemirror_mode": {
    "name": "ipython",
    "version": 3
   },
   "file_extension": ".py",
   "mimetype": "text/x-python",
   "name": "python",
   "nbconvert_exporter": "python",
   "pygments_lexer": "ipython3",
   "version": "3.9.7"
  }
 },
 "nbformat": 4,
 "nbformat_minor": 5
}
